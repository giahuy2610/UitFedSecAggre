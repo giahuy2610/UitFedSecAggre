{
 "cells": [
  {
   "cell_type": "code",
   "execution_count": 1,
   "metadata": {},
   "outputs": [],
   "source": [
    "from web3 import Web3\n",
    "import json"
   ]
  },
  {
   "cell_type": "code",
   "execution_count": 2,
   "metadata": {},
   "outputs": [],
   "source": [
    "rpcServer = 'HTTP://127.0.0.1:7545'\n",
    "w3 = Web3(Web3.HTTPProvider(rpcServer))\n",
    "\n",
    "contributionSC = open('/Users/vfa/Desktop/huytg/khoaluan/malwareClassification/code/Solidity/build/contracts/Reward.json')\n",
    "contributionData = json.load(contributionSC)\n",
    "contributionAbi = contributionData['abi']\n",
    "addressContribution = contributionData['networks']['5777']['address']\n",
    "contribution_contract_instance = w3.eth.contract(address=addressContribution, abi=contributionAbi)"
   ]
  },
  {
   "cell_type": "code",
   "execution_count": 3,
   "metadata": {},
   "outputs": [],
   "source": [
    "#add all account balance 100\n",
    "for i in range(1, 9):\n",
    "    account = w3.eth.accounts[i]\n",
    "    contribution_contract_instance.functions.addBalance(account,100).transact({'from': w3.eth.accounts[0]})"
   ]
  },
  {
   "cell_type": "code",
   "execution_count": 4,
   "metadata": {},
   "outputs": [
    {
     "name": "stdout",
     "output_type": "stream",
     "text": [
      "0xC617cc5999F8C63efC7B8C961B81d81D7B49DC1E 1200\n",
      "0x323f19F2215f799BAC94a98b5b8074C84c431026 200\n",
      "0x41f8638E3960e19C615dC6201D978Ccc647661Fa 200\n",
      "0x11DD45b2203a5C1624A060E6bE87c4449462CFA0 200\n",
      "0xc78973e1D3fce992D5aBB5364baF7cC6A71616B7 200\n",
      "0xc48224622aE2CCb36D483e52767Fd3E936fFa557 200\n",
      "0x482D0220F9AA2B04d9aE44a95D50be69f8AB93f1 200\n",
      "0xAA3abD21002971b33dC5cDF13E70B6E9f5fCe529 200\n"
     ]
    }
   ],
   "source": [
    "#check all account balance\n",
    "for i in range(1, 9):\n",
    "    account = w3.eth.accounts[i]\n",
    "    balance = contribution_contract_instance.functions.balanceOf(account).call()\n",
    "    print(account, balance)\n",
    "\n",
    "    "
   ]
  },
  {
   "cell_type": "code",
   "execution_count": 5,
   "metadata": {},
   "outputs": [
    {
     "data": {
      "text/plain": [
       "HexBytes('0x98835e22f9d10eef587f3e7d9c6d6542e02d2214489827537c11c3053ebb44aa')"
      ]
     },
     "execution_count": 5,
     "metadata": {},
     "output_type": "execute_result"
    }
   ],
   "source": [
    "contribution_contract_instance.functions.addBalance(w3.eth.accounts[1],1000).transact({'from': w3.eth.accounts[0]})"
   ]
  },
  {
   "cell_type": "code",
   "execution_count": 6,
   "metadata": {},
   "outputs": [
    {
     "name": "stdout",
     "output_type": "stream",
     "text": [
      "2200\n"
     ]
    }
   ],
   "source": [
    "name=contribution_contract_instance.functions.balanceOf(w3.eth.accounts[1]).call()\n",
    "print(name)"
   ]
  },
  {
   "cell_type": "code",
   "execution_count": 7,
   "metadata": {},
   "outputs": [
    {
     "name": "stdout",
     "output_type": "stream",
     "text": [
      "0xae0a5a3Dbf8AB60f7B253514495f95C4574876d7\n",
      "0\n"
     ]
    }
   ],
   "source": [
    "acc=w3.eth.account.from_key('0xd5ee1a861622cbbc27f6c2bb446c51067015692e03e0cbecddc07584a7676af6')\n",
    "print(acc.address)\n",
    "name=contribution_contract_instance.functions.balanceOf(acc.address).call()\n",
    "print(name)"
   ]
  },
  {
   "cell_type": "code",
   "execution_count": 8,
   "metadata": {},
   "outputs": [
    {
     "name": "stdout",
     "output_type": "stream",
     "text": [
      "0\n"
     ]
    }
   ],
   "source": [
    "name=contribution_contract_instance.functions.balanceOf(\"0xae0a5a3Dbf8AB60f7B253514495f95C4574876d7\").call()\n",
    "print(name)"
   ]
  },
  {
   "cell_type": "code",
   "execution_count": 9,
   "metadata": {},
   "outputs": [
    {
     "name": "stdout",
     "output_type": "stream",
     "text": [
      "True\n"
     ]
    }
   ],
   "source": [
    "print(w3.is_address(\"0xA09aF9Ef981aD1C6dEDA7D4C4f03bE548cD960ea\"))"
   ]
  },
  {
   "cell_type": "code",
   "execution_count": 10,
   "metadata": {},
   "outputs": [
    {
     "name": "stdout",
     "output_type": "stream",
     "text": [
      "LINK\n"
     ]
    }
   ],
   "source": [
    "test='link'\n",
    "print(test.upper())\n"
   ]
  },
  {
   "cell_type": "code",
   "execution_count": 11,
   "metadata": {},
   "outputs": [
    {
     "name": "stdout",
     "output_type": "stream",
     "text": [
      "-10\n"
     ]
    }
   ],
   "source": [
    "test=-10\n",
    "print(str(test))"
   ]
  },
  {
   "cell_type": "code",
   "execution_count": 14,
   "metadata": {},
   "outputs": [
    {
     "data": {
      "text/plain": [
       "0"
      ]
     },
     "execution_count": 14,
     "metadata": {},
     "output_type": "execute_result"
    }
   ],
   "source": [
    "from reward_service import *\n",
    "\n",
    "reward_service = RewardService()\n",
    "reward_service.getBalance('0x4d960232020CA468720636fB04C32356Aae6996f')"
   ]
  }
 ],
 "metadata": {
  "kernelspec": {
   "display_name": "Python 3",
   "language": "python",
   "name": "python3"
  },
  "language_info": {
   "codemirror_mode": {
    "name": "ipython",
    "version": 3
   },
   "file_extension": ".py",
   "mimetype": "text/x-python",
   "name": "python",
   "nbconvert_exporter": "python",
   "pygments_lexer": "ipython3",
   "version": "3.10.13"
  }
 },
 "nbformat": 4,
 "nbformat_minor": 2
}
