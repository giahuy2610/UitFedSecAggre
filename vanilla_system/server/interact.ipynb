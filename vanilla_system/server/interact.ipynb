{
 "cells": [
  {
   "cell_type": "code",
   "execution_count": 1,
   "metadata": {},
   "outputs": [],
   "source": [
    "from web3 import Web3\n",
    "import json"
   ]
  },
  {
   "cell_type": "code",
   "execution_count": 2,
   "metadata": {},
   "outputs": [],
   "source": [
    "rpcServer = 'HTTP://127.0.0.1:7545'\n",
    "w3 = Web3(Web3.HTTPProvider(rpcServer))\n",
    "\n",
    "contributionSC = open('../Solidity/build/contracts/Reward.json')\n",
    "contributionData = json.load(contributionSC)\n",
    "contributionAbi = contributionData['abi']\n",
    "addressContribution = contributionData['networks']['5777']['address']\n",
    "contribution_contract_instance = w3.eth.contract(address=addressContribution, abi=contributionAbi)"
   ]
  },
  {
   "cell_type": "code",
   "execution_count": null,
   "metadata": {},
   "outputs": [],
   "source": [
    "#add all account balance 100\n",
    "for i in range(1, 9):\n",
    "    account = w3.eth.accounts[i]\n",
    "    contribution_contract_instance.functions.addBalance(account,100).transact({'from': w3.eth.accounts[0]})"
   ]
  },
  {
   "cell_type": "code",
   "execution_count": 3,
   "metadata": {},
   "outputs": [
    {
     "name": "stdout",
     "output_type": "stream",
     "text": [
      "0xae0a5a3Dbf8AB60f7B253514495f95C4574876d7 2140\n",
      "0xE295e5D17dbae5FD80b4aBF64678aeA216a9D06d 140\n",
      "0x67e408fCD53738c39a94220e911204f3c90A787D 130\n",
      "0x4685B1D9c63717d7060ad689AF77Ba98dFc895E9 130\n",
      "0x36D38F3533690B71e1Cc60C9dAbd3A3543813596 130\n",
      "0xE2200280bd7bDc3bB44cA1Db822bBBF5766d358E 100\n",
      "0x30B5191b7AaF03BED8c50Ebb960B64529e688a74 100\n",
      "0x75caF2D330F75ea4b5d0c76067a218E2f0b82992 130\n"
     ]
    }
   ],
   "source": [
    "#check all account balance\n",
    "for i in range(1, 9):\n",
    "    account = w3.eth.accounts[i]\n",
    "    balance = contribution_contract_instance.functions.balanceOf(account).call()\n",
    "    print(account, balance)\n",
    "    "
   ]
  },
  {
   "cell_type": "code",
   "execution_count": 12,
   "metadata": {},
   "outputs": [
    {
     "data": {
      "text/plain": [
       "HexBytes('0x40a47618ba41db1ef7330dfa316ff13779c8e24eecc3650bfed9ccd001cfbb3a')"
      ]
     },
     "execution_count": 12,
     "metadata": {},
     "output_type": "execute_result"
    }
   ],
   "source": [
    "contribution_contract_instance.functions.addBalance(w3.eth.accounts[1],1000).transact({'from': w3.eth.accounts[0]})"
   ]
  },
  {
   "cell_type": "code",
   "execution_count": 16,
   "metadata": {},
   "outputs": [
    {
     "name": "stdout",
     "output_type": "stream",
     "text": [
      "2100\n"
     ]
    }
   ],
   "source": [
    "name=contribution_contract_instance.functions.balanceOf(w3.eth.accounts[1]).call()\n",
    "print(name)"
   ]
  },
  {
   "cell_type": "code",
   "execution_count": 4,
   "metadata": {},
   "outputs": [
    {
     "name": "stdout",
     "output_type": "stream",
     "text": [
      "0xae0a5a3Dbf8AB60f7B253514495f95C4574876d7\n",
      "2100\n"
     ]
    }
   ],
   "source": [
    "acc=w3.eth.account.from_key('0xd5ee1a861622cbbc27f6c2bb446c51067015692e03e0cbecddc07584a7676af6')\n",
    "print(acc.address)\n",
    "name=contribution_contract_instance.functions.balanceOf(acc.address).call()\n",
    "print(name)"
   ]
  },
  {
   "cell_type": "code",
   "execution_count": 6,
   "metadata": {},
   "outputs": [
    {
     "name": "stdout",
     "output_type": "stream",
     "text": [
      "2100\n"
     ]
    }
   ],
   "source": [
    "name=contribution_contract_instance.functions.balanceOf(\"0xae0a5a3Dbf8AB60f7B253514495f95C4574876d7\").call()\n",
    "print(name)"
   ]
  },
  {
   "cell_type": "code",
   "execution_count": 4,
   "metadata": {},
   "outputs": [
    {
     "name": "stdout",
     "output_type": "stream",
     "text": [
      "100\n"
     ]
    }
   ],
   "source": [
    "name=contribution_contract_instance.functions.balanceOf(\"0x75caF2D330F75ea4b5d0c76067a218E2f0b82992\").call()\n",
    "print(name)"
   ]
  },
  {
   "cell_type": "code",
   "execution_count": 5,
   "metadata": {},
   "outputs": [
    {
     "name": "stdout",
     "output_type": "stream",
     "text": [
      "True\n"
     ]
    }
   ],
   "source": [
    "print(w3.is_address(\"0xA09aF9Ef981aD1C6dEDA7D4C4f03bE548cD960ea\"))"
   ]
  },
  {
   "cell_type": "code",
   "execution_count": 2,
   "metadata": {},
   "outputs": [
    {
     "name": "stdout",
     "output_type": "stream",
     "text": [
      "LINK\n"
     ]
    }
   ],
   "source": [
    "test='link'\n",
    "print(test.upper())\n"
   ]
  },
  {
   "cell_type": "code",
   "execution_count": 3,
   "metadata": {},
   "outputs": [
    {
     "name": "stdout",
     "output_type": "stream",
     "text": [
      "-10\n"
     ]
    }
   ],
   "source": [
    "test=-10\n",
    "print(str(test))"
   ]
  },
  {
   "cell_type": "code",
   "execution_count": 5,
   "metadata": {},
   "outputs": [],
   "source": [
    "from UitFedSecAggre.vanilla_system.Solidity.reward_service import RewardService\n",
    "reward_service = RewardService()"
   ]
  },
  {
   "cell_type": "code",
   "execution_count": 6,
   "metadata": {},
   "outputs": [
    {
     "data": {
      "text/plain": [
       "130"
      ]
     },
     "execution_count": 6,
     "metadata": {},
     "output_type": "execute_result"
    }
   ],
   "source": [
    "#reward_service.pay(\"0x75caF2D330F75ea4b5d0c76067a218E2f0b82992\", 30)\n",
    "reward_service.getBalance('0x36D38F3533690B71e1Cc60C9dAbd3A3543813596')"
   ]
  }
 ],
 "metadata": {
  "kernelspec": {
   "display_name": "Python 3",
   "language": "python",
   "name": "python3"
  },
  "language_info": {
   "codemirror_mode": {
    "name": "ipython",
    "version": 3
   },
   "file_extension": ".py",
   "mimetype": "text/x-python",
   "name": "python",
   "nbconvert_exporter": "python",
   "pygments_lexer": "ipython3",
   "version": "3.10.11"
  }
 },
 "nbformat": 4,
 "nbformat_minor": 2
}
